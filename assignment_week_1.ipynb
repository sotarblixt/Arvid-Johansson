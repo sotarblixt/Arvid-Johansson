{
 "cells": [
  {
   "cell_type": "markdown",
   "id": "245ebdaf",
   "metadata": {
    "editable": false,
    "tags": []
   },
   "source": [
    "# EEN065 - Applied object-oriented programming\n",
    "\n",
    "Teacher: [Carlos Natalino](https://www.chalmers.se/en/persons/carda/) / Examiner: [Paolo Monti](https://www.chalmers.se/en/persons/mpaolo/)\n",
    "\n",
    "[Canvas course page](https://chalmers.instructure.com/courses/34141)\n",
    "\n",
    "[Course channel on Chalmers Play](https://play.chalmers.se/channel/EEN060_EEN065_Applied_object-oriented_programming/300149)\n",
    "\n",
    "Before you turn this assignment list in, make sure everything runs as expected.\n",
    "First, **restart the kernel** and then **run all cells**.\n",
    "Then, check if all the tests run correctly.\n",
    "Note that if one of the problems present an error, the following ones **will not** be tested.\n",
    "\n",
    "In case of discrepancies between the problem command and the tests, you should solve it having in mind the tests.\n",
    "\n",
    "There are four types of cell:\n",
    "1. *solution cells:* These are the cells where you write your answer, or modify the existing code to solve the problem.\n",
    "2. *debug cells:* These cells are where you test your solution while developing it. You can either uncomment the indicated lines of code to test your solution on completion, or you can keep the lines commented and write your own code to test your solution. You are allowed to modify this cell as you wish to complete your solution in solution cell. But make sure you do not introduce an error in this cell when you run all cells.\n",
    "1. *test cells:* These cells are used to test whether your solution is correct or not. If the tests run correctly, you should see a message `tests passed`. Otherwise, you should see an error message.\n",
    "2. *code quality tests:* These cells tests whether your solution adheres to the code quality rules of the course.\n",
    "\n",
    "The code quality tests require you to be connected to the Chalmers network, either through Eduroam or through the VPN.\n",
    "You can find more information [here](https://chalmers.topdesk.net/tas/public/ssp/content/search?q=KB+1678).\n",
    "\n",
    "**Delete** the line `raise NotImplementedError()` from the problems that you solve.\n",
    "\n",
    "**Do not delete or add any cell in this file.** All cells that you need are already in place.\n",
    "\n",
    "If you want to execute a cell, select the cell and press **CTRL+Enter** (in Windows) or **CMD+Enter** (in macOS) or click on the **Run cell** button.\n"
   ]
  },
  {
   "cell_type": "markdown",
   "id": "eefe915c",
   "metadata": {
    "editable": false,
    "tags": []
   },
   "source": [
    "# Assignment Week 1 - training\n",
    "\n",
    "## Note that the grade for this assignment does not count towards your final grade.\n"
   ]
  },
  {
   "cell_type": "code",
   "execution_count": null,
   "id": "ebdff5d1",
   "metadata": {
    "checksum": "7f904840ac6e0d82d451f6aa628cf88f",
    "editable": false,
    "tags": [
     "load"
    ]
   },
   "outputs": [
    {
     "name": "stdout",
     "output_type": "stream",
     "text": [
      "The autoreload extension is already loaded. To reload it, use:\n",
      "  %reload_ext autoreload\n"
     ]
    },
    {
     "name": "stderr",
     "output_type": "stream",
     "text": [
      "It seems this file is in the wrong folder. Make sure to place it in the `programming-assignments` folder/project.\n"
     ]
    }
   ],
   "source": [
    "%load_ext autoreload\n",
    "try:\n",
    "    from utils import validate_python_code\n",
    "except:\n",
    "    import sys\n",
    "    print(\"It seems this file is in the wrong folder. \"\n",
    "          \"Make sure to place it in the `programming-assignments` folder/project.\",\n",
    "          file=sys.stderr)"
   ]
  },
  {
   "cell_type": "markdown",
   "id": "7381b866",
   "metadata": {
    "editable": false
   },
   "source": [
    "### Problem 1\n",
    "\n",
    "Create a Python function called `calculate_addition` that receives a two positive integers $a$ and $b$ and returns the sum $a+b$."
   ]
  },
  {
   "cell_type": "markdown",
   "id": "49d8999a",
   "metadata": {
    "editable": false
   },
   "source": [
    "```\n",
    "# write here your pseudocode (not graded)\n",
    "\n",
    "# * pseudocode is necessary when asking for help during the lab\n",
    "```"
   ]
  },
  {
   "cell_type": "code",
   "execution_count": null,
   "id": "69ca2aa9",
   "metadata": {
    "editable": true,
    "tags": [
     "solution",
     "solution-1"
    ]
   },
   "outputs": [
    {
     "name": "stdout",
     "output_type": "stream",
     "text": [
      "Overwriting calculate_addition_solution.py\n"
     ]
    }
   ],
   "source": [
    "%%writefile calculate_addition_solution.py\n",
    "# solution cell\n",
    "### BEGIN SOLUTION\n",
    "def calculate_addition(a<.int,int:b) -> int:\n",
    "    if a < 0 or b < 0:\n",
    "        raise ValueError(\"Both inputs must be positive integers.\")\n",
    "    \n",
    "    return a + b\n",
    "### END SOLUTION\n"
   ]
  },
  {
   "cell_type": "code",
   "execution_count": null,
   "id": "56fb5150",
   "metadata": {
    "editable": true,
    "tags": [
     "debug",
     "debug-1"
    ]
   },
   "outputs": [
    {
     "name": "stdout",
     "output_type": "stream",
     "text": [
      "The sum of a = 7 and b = 2 is 9\n",
      "Execution finished ✓\n"
     ]
    }
   ],
   "source": [
    "%autoreload 2\n",
    "# uncomment the line(s) below to debug\n",
    "from calculate_addition_solution import calculate_addition\n",
    "\n",
    "\n",
    "a = 7\n",
    "b = 2\n",
    "c = calculate_addition(a, b)\n",
    "print(f\"The sum of a = {a} and b = {b} is {c}\")\n",
    "print(\"Execution finished\", \"\\u2713\")\n"
   ]
  },
  {
   "cell_type": "code",
   "execution_count": null,
   "id": "9d71557a",
   "metadata": {
    "checksum": "95aae33abd6edc34f46a5c783d24c4b9",
    "editable": false,
    "tags": [
     "tests",
     "tests-1"
    ]
   },
   "outputs": [
    {
     "name": "stdout",
     "output_type": "stream",
     "text": [
      "tests passed ✓\n"
     ]
    }
   ],
   "source": [
    "%autoreload 2\n",
    "# test cell\n",
    "try:\n",
    "    import calculate_addition_solution\n",
    "except:\n",
    "    raise ValueError(\"You did not execute your solution cell!\")\n",
    "try:\n",
    "    from calculate_addition_solution import calculate_addition\n",
    "except:\n",
    "    raise ValueError(\"The module does not have the necessary function!\")\n",
    "\n",
    "test_cases = [((2, 4), 6), ((3, 9), 12), ((7, 2), 9)]\n",
    "\n",
    "for _in, _out in test_cases:\n",
    "    _res = calculate_addition(*_in)\n",
    "    assert _res == _out, f\"The function with input `{_in}` should return the value \\\n",
    "`{_out}` of type `{type(_out)}`\\n but returned the value `{_res}` of type `{type(_res)}`.\"\n",
    "\n",
    "print(\"tests passed\", \"\\u2713\")"
   ]
  },
  {
   "cell_type": "code",
   "execution_count": 48,
   "id": "503c7b86",
   "metadata": {
    "checksum": "37ca6aefe4bff8d3c331d86b8d628354",
    "editable": false,
    "tags": [
     "quality-1"
    ]
   },
   "outputs": [
    {
     "ename": "NameError",
     "evalue": "name 'validate_python_code' is not defined",
     "output_type": "error",
     "traceback": [
      "\u001b[1;31m---------------------------------------------------------------------------\u001b[0m",
      "\u001b[1;31mNameError\u001b[0m                                 Traceback (most recent call last)",
      "Cell \u001b[1;32mIn[48], line 1\u001b[0m\n\u001b[1;32m----> 1\u001b[0m \u001b[43mvalidate_python_code\u001b[49m(\u001b[38;5;124m\"\u001b[39m\u001b[38;5;124mcalculate_addition_solution.py\u001b[39m\u001b[38;5;124m\"\u001b[39m)\n",
      "\u001b[1;31mNameError\u001b[0m: name 'validate_python_code' is not defined"
     ]
    }
   ],
   "source": [
    "validate_python_code(\"calculate_addition_solution.py\")"
   ]
  },
  {
   "cell_type": "markdown",
   "id": "e42de33a",
   "metadata": {
    "editable": false
   },
   "source": [
    "### Problem 2\n",
    "\n",
    "Create a Python function called `calculate_subtraction` that receives a two positive integers $a$ and $b$ and returns the difference $a-b$."
   ]
  },
  {
   "cell_type": "markdown",
   "id": "1c84d163",
   "metadata": {
    "editable": false
   },
   "source": [
    "```\n",
    "# write here your pseudocode (not graded)\n",
    "\n",
    "# * pseudocode is necessary when asking for help during the lab\n",
    "```"
   ]
  },
  {
   "cell_type": "code",
   "execution_count": 63,
   "id": "ef87f9c4",
   "metadata": {
    "editable": true,
    "tags": [
     "solution",
     "solution-2"
    ]
   },
   "outputs": [
    {
     "name": "stdout",
     "output_type": "stream",
     "text": [
      "Overwriting calculate_subtraction_solution.py\n"
     ]
    }
   ],
   "source": [
    "%%writefile calculate_subtraction_solution.py\n",
    "# solution cell\n",
    "### BEGIN SOLUTION\n",
    "def calculate_subtraction(a:int, b:int) -> int:\n",
    "    if a < 0 or b < 0:\n",
    "        raise ValueError(\"Both inputs must be positive integers.\")\n",
    "    return a - b\n",
    "### END SOLUTION\n"
   ]
  },
  {
   "cell_type": "code",
   "execution_count": 67,
   "id": "f39633f3",
   "metadata": {
    "editable": true,
    "tags": [
     "debug",
     "debug-2"
    ]
   },
   "outputs": [
    {
     "name": "stdout",
     "output_type": "stream",
     "text": [
      "The sum of a = 7 and b = 2 is 5\n",
      "Execution finished ✓\n"
     ]
    }
   ],
   "source": [
    "%autoreload 2\n",
    "# uncomment the line(s) below to debug\n",
    "from calculate_subtraction_solution import calculate_subtraction\n",
    "\n",
    "\n",
    "a = 7\n",
    "b = 2\n",
    "c = calculate_subtraction(a, b)\n",
    "print(f\"The sum of a = {a} and b = {b} is {c}\")\n",
    "print(\"Execution finished\", \"\\u2713\")\n"
   ]
  },
  {
   "cell_type": "code",
   "execution_count": 98,
   "id": "3d0d626c",
   "metadata": {
    "checksum": "8e52e49b90ad7b28028587953213b21a",
    "editable": false,
    "tags": [
     "tests",
     "tests-2"
    ]
   },
   "outputs": [],
   "source": [
    "%autoreload 2\n",
    "# test cell\n",
    "try:\n",
    "    import calculate_subtraction_solution\n",
    "except:\n",
    "    raise ValueError(\"You did not execute your solution cell!\")\n",
    "try:\n",
    "    from calculate_subtraction_solution import calculate_subtraction\n",
    "except:\n",
    "    raise ValueError(\"The module does not have the necessary function!\")\n",
    "\n",
    "test_cases = [((2, 4), -2), ((3, 9), -6), ((7, 2), 5)]\n",
    "\n",
    "for _in, _out in test_cases:\n",
    "    _res = calculate_subtraction(*_in)\n",
    "    assert _res == _out, f\"The function with input `{_in}` should return the value \\\n",
    "`{_out}` of type `{type(_out)}`\\n but returned the value `{_res}` of type `{type(_res)}`.\""
   ]
  },
  {
   "cell_type": "code",
   "execution_count": 90,
   "id": "b779c748",
   "metadata": {
    "checksum": "465d88a9e0ac5e619c8bbb635a8c1f45",
    "editable": false,
    "tags": [
     "quality",
     "quality-2"
    ]
   },
   "outputs": [
    {
     "ename": "NameError",
     "evalue": "name 'validate_python_code' is not defined",
     "output_type": "error",
     "traceback": [
      "\u001b[1;31m---------------------------------------------------------------------------\u001b[0m",
      "\u001b[1;31mNameError\u001b[0m                                 Traceback (most recent call last)",
      "Cell \u001b[1;32mIn[90], line 1\u001b[0m\n\u001b[1;32m----> 1\u001b[0m \u001b[43mvalidate_python_code\u001b[49m(\u001b[38;5;124m\"\u001b[39m\u001b[38;5;124mcalculate_subtraction_solution.py\u001b[39m\u001b[38;5;124m\"\u001b[39m)\n\u001b[0;32m      2\u001b[0m \u001b[38;5;28mprint\u001b[39m(\u001b[38;5;124m\"\u001b[39m\u001b[38;5;124mtests passed\u001b[39m\u001b[38;5;124m\"\u001b[39m, \u001b[38;5;124m\"\u001b[39m\u001b[38;5;130;01m\\u2713\u001b[39;00m\u001b[38;5;124m\"\u001b[39m)\n",
      "\u001b[1;31mNameError\u001b[0m: name 'validate_python_code' is not defined"
     ]
    }
   ],
   "source": [
    "validate_python_code(\"calculate_subtraction_solution.py\")\n",
    "print(\"tests passed\", \"\\u2713\")"
   ]
  },
  {
   "cell_type": "markdown",
   "id": "94a0013b",
   "metadata": {
    "editable": false
   },
   "source": [
    "### Problem 3\n",
    "\n",
    "Create a Python function called `calculate_product` that receives a two positive integers $a$ and $b$ and returns the product $ab$."
   ]
  },
  {
   "cell_type": "markdown",
   "id": "361d8f49",
   "metadata": {
    "editable": false
   },
   "source": [
    "```\n",
    "# write here your pseudocode (not graded)\n",
    "\n",
    "# * pseudocode is necessary when asking for help during the lab\n",
    "```"
   ]
  },
  {
   "cell_type": "code",
   "execution_count": 91,
   "id": "2eafed2d",
   "metadata": {
    "editable": true,
    "tags": [
     "solution",
     "solution-3"
    ]
   },
   "outputs": [
    {
     "name": "stdout",
     "output_type": "stream",
     "text": [
      "Overwriting calculate_product_solution.py\n"
     ]
    }
   ],
   "source": [
    "%%writefile calculate_product_solution.py\n",
    "# solution cell\n",
    "### BEGIN SOLUTION\n",
    "def calculate_product(a:int, b:int)-> int:\n",
    "    if a < 0 or b < 0:\n",
    "        raise ValueError(\"Both inputs must be positive integers.\")\n",
    "    return a * b\n",
    "### END SOLUTION\n"
   ]
  },
  {
   "cell_type": "code",
   "execution_count": 92,
   "id": "c94a77c8",
   "metadata": {
    "editable": true,
    "tags": [
     "debug",
     "debug-3"
    ]
   },
   "outputs": [
    {
     "name": "stdout",
     "output_type": "stream",
     "text": [
      "The sum of a = 7 and b = 2 is 14\n",
      "Execution finished ✓\n"
     ]
    }
   ],
   "source": [
    "%autoreload 2\n",
    "# uncomment the line(s) below to debug\n",
    "from calculate_product_solution import calculate_product\n",
    "\n",
    "\n",
    "a = 7\n",
    "b = 2\n",
    "c = calculate_product(a, b)\n",
    "print(f\"The sum of a = {a} and b = {b} is {c}\")\n",
    "print(\"Execution finished\", \"\\u2713\")\n"
   ]
  },
  {
   "cell_type": "code",
   "execution_count": 93,
   "id": "db2f927e",
   "metadata": {
    "checksum": "e23e11e3be7cd05bf0544ac6b2099f94",
    "editable": false,
    "tags": [
     "tests",
     "tests-3"
    ]
   },
   "outputs": [
    {
     "name": "stdout",
     "output_type": "stream",
     "text": [
      "tests passed ✓\n"
     ]
    }
   ],
   "source": [
    "%autoreload 2\n",
    "# test cell\n",
    "try:\n",
    "    import calculate_product_solution\n",
    "except:\n",
    "    raise ValueError(\"You did not execute your solution cell!\")\n",
    "try:\n",
    "    from calculate_product_solution import calculate_product\n",
    "except:\n",
    "    raise ValueError(\"The module does not have the necessary function!\")\n",
    "\n",
    "test_cases = [((2, 4), 8), ((3, 9), 27), ((7, 2), 14)]\n",
    "\n",
    "for _in, _out in test_cases:\n",
    "    _res = calculate_product(*_in)\n",
    "    assert _res == _out, f\"The function with input `{_in}` should return the value \\\n",
    "`{_out}` of type `{type(_out)}`\\n but returned the value `{_res}` of type `{type(_res)}`.\"\n",
    "\n",
    "print(\"tests passed\", \"\\u2713\")"
   ]
  },
  {
   "cell_type": "code",
   "execution_count": 94,
   "id": "70cb0627",
   "metadata": {
    "checksum": "c52767523897d9591cd8bbf857c3b6da",
    "editable": false,
    "tags": [
     "quality",
     "quality-3"
    ]
   },
   "outputs": [
    {
     "ename": "NameError",
     "evalue": "name 'validate_python_code' is not defined",
     "output_type": "error",
     "traceback": [
      "\u001b[1;31m---------------------------------------------------------------------------\u001b[0m",
      "\u001b[1;31mNameError\u001b[0m                                 Traceback (most recent call last)",
      "Cell \u001b[1;32mIn[94], line 1\u001b[0m\n\u001b[1;32m----> 1\u001b[0m \u001b[43mvalidate_python_code\u001b[49m(\u001b[38;5;124m\"\u001b[39m\u001b[38;5;124mcalculate_product_solution.py\u001b[39m\u001b[38;5;124m\"\u001b[39m)\n",
      "\u001b[1;31mNameError\u001b[0m: name 'validate_python_code' is not defined"
     ]
    }
   ],
   "source": [
    "validate_python_code(\"calculate_product_solution.py\")"
   ]
  },
  {
   "cell_type": "markdown",
   "id": "52c84e96",
   "metadata": {
    "editable": false
   },
   "source": [
    "### Problem 4\n",
    "\n",
    "Create a Python function called `calculate_division` that receives a two positive integers $a$ and $b$ and returns the quotient $a/b$."
   ]
  },
  {
   "cell_type": "markdown",
   "id": "7f407725",
   "metadata": {
    "editable": false
   },
   "source": [
    "```\n",
    "# write here your pseudocode (not graded)\n",
    "\n",
    "# * pseudocode is necessary when asking for help during the lab\n",
    "```"
   ]
  },
  {
   "cell_type": "code",
   "execution_count": 95,
   "id": "a2508606",
   "metadata": {
    "editable": true,
    "tags": [
     "solution",
     "solution-4"
    ]
   },
   "outputs": [
    {
     "name": "stdout",
     "output_type": "stream",
     "text": [
      "Writing calculate_division_solution.py\n"
     ]
    }
   ],
   "source": [
    "%%writefile calculate_division_solution.py\n",
    "# solution cell\n",
    "### BEGIN SOLUTION\n",
    "def calculate_division(a:int, b:int) -> int:\n",
    "    if a < 0 or b < 0:\n",
    "        raise ValueError(\"Both inputs must be positive integers.\")\n",
    "    return a / b\n",
    "    \n",
    "### END SOLUTION\n"
   ]
  },
  {
   "cell_type": "code",
   "execution_count": 96,
   "id": "cbbe50d8",
   "metadata": {
    "editable": true,
    "tags": [
     "debug",
     "debug-4"
    ]
   },
   "outputs": [
    {
     "name": "stdout",
     "output_type": "stream",
     "text": [
      "The sum of a = 7 and b = 2 is 3.5\n",
      "Execution finished ✓\n"
     ]
    }
   ],
   "source": [
    "%autoreload 2\n",
    "# uncomment the line(s) below to debug\n",
    "from calculate_division_solution import calculate_division\n",
    "\n",
    "\n",
    "a = 7\n",
    "b = 2\n",
    "c = calculate_division(a, b)\n",
    "print(f\"The sum of a = {a} and b = {b} is {c}\")\n",
    "print(\"Execution finished\", \"\\u2713\")\n"
   ]
  },
  {
   "cell_type": "code",
   "execution_count": 97,
   "id": "07fa9663",
   "metadata": {
    "checksum": "157ffd0d5c0b6fb2369df40bb4a6e8e9",
    "editable": false,
    "tags": [
     "tests",
     "tests-4"
    ]
   },
   "outputs": [
    {
     "name": "stdout",
     "output_type": "stream",
     "text": [
      "tests passed ✓\n"
     ]
    }
   ],
   "source": [
    "%autoreload 2\n",
    "# test cell\n",
    "try:\n",
    "    import calculate_division_solution\n",
    "except:\n",
    "    raise ValueError(\"You did not execute your solution cell!\")\n",
    "try:\n",
    "    from calculate_division_solution import calculate_division\n",
    "except:\n",
    "    raise ValueError(\"The module does not have the necessary function!\")\n",
    "\n",
    "test_cases = [((2, 4), 0.5), ((3, 9), 0.3333333333333333), ((7, 2), 3.5)]\n",
    "\n",
    "for _in, _out in test_cases:\n",
    "    _res = calculate_division(*_in)\n",
    "    assert _res == _out, f\"The function with input `{_in}` should return the value \\\n",
    "`{_out}` of type `{type(_out)}`\\n but returned the value `{_res}` of type `{type(_res)}`.\"\n",
    "\n",
    "print(\"tests passed\", \"\\u2713\")"
   ]
  },
  {
   "cell_type": "code",
   "execution_count": null,
   "id": "f6df675d",
   "metadata": {
    "checksum": "432ae3582dc6208a1d89c0b002e762f8",
    "editable": false,
    "tags": [
     "quality",
     "quality-4"
    ]
   },
   "outputs": [],
   "source": [
    "validate_python_code(\"calculate_division_solution.py\")"
   ]
  }
 ],
 "metadata": {
  "assignment_list": [
   "1",
   "2",
   "3",
   "4"
  ],
  "compilation_date": "2025-03-24 14:45:19.234006",
  "kernelspec": {
   "display_name": "Python 3",
   "language": "python",
   "name": "python3"
  },
  "language_info": {
   "codemirror_mode": {
    "name": "ipython",
    "version": 3
   },
   "file_extension": ".py",
   "mimetype": "text/x-python",
   "name": "python",
   "nbconvert_exporter": "python",
   "pygments_lexer": "ipython3",
   "version": "3.10.11"
  }
 },
 "nbformat": 4,
 "nbformat_minor": 5
}
